{
 "cells": [
  {
   "cell_type": "code",
   "execution_count": null,
   "metadata": {},
   "outputs": [],
   "source": [
    "# This file should be ran from \"AnalyzeDataSet2\" folder"
   ]
  },
  {
   "cell_type": "code",
   "execution_count": 1,
   "metadata": {},
   "outputs": [],
   "source": [
    "import pandas as pd\n",
    "import numpy as np\n",
    "%matplotlib inline\n",
    "import matplotlib.pyplot as plt\n",
    "import glob\n",
    "from sklearn.model_selection import train_test_split\n",
    "from sklearn.ensemble import RandomForestClassifier\n",
    "from sklearn import metrics\n",
    "from sklearn import neighbors"
   ]
  },
  {
   "cell_type": "markdown",
   "metadata": {},
   "source": [
    "## Reading files for each cell type"
   ]
  },
  {
   "cell_type": "code",
   "execution_count": 2,
   "metadata": {},
   "outputs": [],
   "source": [
    "# Reading combined CSV files\n",
    "all_A_files = glob.glob(\".\\\\A\\\\*.csv\")\n",
    "len(all_A_files)\n",
    "Cell_A_sequence = list()\n",
    "for file in all_A_files:\n",
    "    temp_df = pd.read_csv(file)\n",
    "    Cell_A_sequence.append(temp_df.values)"
   ]
  },
  {
   "cell_type": "code",
   "execution_count": 3,
   "metadata": {},
   "outputs": [],
   "source": [
    "# Reading combined CSV files\n",
    "all_B_files = glob.glob(\".\\\\B\\\\*.csv\")\n",
    "len(all_B_files)\n",
    "Cell_B_sequence = list()\n",
    "for file in all_B_files:\n",
    "    temp_df = pd.read_csv(file)\n",
    "    Cell_B_sequence.append(temp_df.values)"
   ]
  },
  {
   "cell_type": "code",
   "execution_count": 4,
   "metadata": {},
   "outputs": [],
   "source": [
    "# Reading combined CSV files\n",
    "all_C_files = glob.glob(\".\\\\C\\\\*.csv\")\n",
    "len(all_C_files)\n",
    "Cell_C_sequence = list()\n",
    "for file in all_C_files:\n",
    "    temp_df = pd.read_csv(file)\n",
    "    Cell_C_sequence.append(temp_df.values)"
   ]
  },
  {
   "cell_type": "code",
   "execution_count": null,
   "metadata": {},
   "outputs": [],
   "source": []
  },
  {
   "cell_type": "code",
   "execution_count": 5,
   "metadata": {},
   "outputs": [
    {
     "data": {
      "text/plain": [
       "count     1202.000000\n",
       "mean       351.399334\n",
       "std        673.398916\n",
       "min        129.000000\n",
       "25%        232.000000\n",
       "50%        268.000000\n",
       "75%        315.250000\n",
       "max      13540.000000\n",
       "dtype: float64"
      ]
     },
     "execution_count": 5,
     "metadata": {},
     "output_type": "execute_result"
    }
   ],
   "source": [
    "len_sequences = []\n",
    "for one_seq in Cell_A_sequence:\n",
    "    len_sequences.append(len(one_seq))\n",
    "len_df_A = pd.Series(len_sequences)\n",
    "len_df_A.describe()"
   ]
  },
  {
   "cell_type": "code",
   "execution_count": 6,
   "metadata": {},
   "outputs": [
    {
     "data": {
      "text/plain": [
       "count     1541.000000\n",
       "mean       252.595717\n",
       "std        724.538976\n",
       "min         97.000000\n",
       "25%        145.000000\n",
       "50%        160.000000\n",
       "75%        176.000000\n",
       "max      16940.000000\n",
       "dtype: float64"
      ]
     },
     "execution_count": 6,
     "metadata": {},
     "output_type": "execute_result"
    }
   ],
   "source": [
    "len_sequences = []\n",
    "for one_seq in Cell_B_sequence:\n",
    "    len_sequences.append(len(one_seq))\n",
    "len_df_B = pd.Series(len_sequences)\n",
    "len_df_B.describe()"
   ]
  },
  {
   "cell_type": "code",
   "execution_count": 8,
   "metadata": {},
   "outputs": [
    {
     "data": {
      "text/plain": [
       "count     1379.000000\n",
       "mean       210.022480\n",
       "std        768.380435\n",
       "min         55.000000\n",
       "25%        100.000000\n",
       "50%        119.000000\n",
       "75%        137.000000\n",
       "max      15360.000000\n",
       "dtype: float64"
      ]
     },
     "execution_count": 8,
     "metadata": {},
     "output_type": "execute_result"
    }
   ],
   "source": [
    "len_sequences = []\n",
    "for one_seq in Cell_C_sequence:\n",
    "    len_sequences.append(len(one_seq))\n",
    "len_df_C = pd.Series(len_sequences)\n",
    "len_df_C.describe()"
   ]
  },
  {
   "cell_type": "code",
   "execution_count": null,
   "metadata": {},
   "outputs": [],
   "source": []
  },
  {
   "cell_type": "markdown",
   "metadata": {},
   "source": [
    "## Adding target(Cell Name) and combining values"
   ]
  },
  {
   "cell_type": "code",
   "execution_count": 9,
   "metadata": {},
   "outputs": [],
   "source": [
    "combined_list = Cell_A_sequence\n",
    "target = [1] * len(Cell_A_sequence)"
   ]
  },
  {
   "cell_type": "code",
   "execution_count": 10,
   "metadata": {},
   "outputs": [],
   "source": [
    "for i in range(len(Cell_B_sequence)):\n",
    "    combined_list.append(Cell_B_sequence[i])\n",
    "    target.append(2)       # Assign target"
   ]
  },
  {
   "cell_type": "code",
   "execution_count": 11,
   "metadata": {},
   "outputs": [],
   "source": [
    "for i in range(len(Cell_C_sequence)):\n",
    "    combined_list.append(Cell_C_sequence[i])\n",
    "    target.append(3)       # Assign target"
   ]
  },
  {
   "cell_type": "code",
   "execution_count": 12,
   "metadata": {},
   "outputs": [
    {
     "data": {
      "text/plain": [
       "4122"
      ]
     },
     "execution_count": 12,
     "metadata": {},
     "output_type": "execute_result"
    }
   ],
   "source": [
    "final_combined = []\n",
    "for arr in combined_list:\n",
    "    final_combined.append(arr[:55])\n",
    "len(final_combined)"
   ]
  },
  {
   "cell_type": "code",
   "execution_count": 13,
   "metadata": {},
   "outputs": [],
   "source": [
    "final_combined = np.array(final_combined)\n",
    "final_combined = final_combined.reshape(final_combined.shape[0],-1)"
   ]
  },
  {
   "cell_type": "code",
   "execution_count": null,
   "metadata": {},
   "outputs": [],
   "source": []
  },
  {
   "cell_type": "markdown",
   "metadata": {},
   "source": [
    "## Splitting the value to Train and Test"
   ]
  },
  {
   "cell_type": "code",
   "execution_count": 106,
   "metadata": {},
   "outputs": [],
   "source": [
    "# Performing train test split individually \n",
    "X_train, X_test, y_train, y_test = train_test_split(final_combined, target, test_size=0.30, random_state=5)"
   ]
  },
  {
   "cell_type": "markdown",
   "metadata": {},
   "source": [
    "## Initial Prediction using Random Forest"
   ]
  },
  {
   "cell_type": "code",
   "execution_count": 50,
   "metadata": {},
   "outputs": [
    {
     "data": {
      "text/plain": [
       "RandomForestClassifier(bootstrap=True, ccp_alpha=0.0, class_weight=None,\n",
       "                       criterion='gini', max_depth=None, max_features='auto',\n",
       "                       max_leaf_nodes=None, max_samples=None,\n",
       "                       min_impurity_decrease=0.0, min_impurity_split=None,\n",
       "                       min_samples_leaf=1, min_samples_split=2,\n",
       "                       min_weight_fraction_leaf=0.0, n_estimators=20,\n",
       "                       n_jobs=None, oob_score=False, random_state=None,\n",
       "                       verbose=0, warm_start=False)"
      ]
     },
     "execution_count": 50,
     "metadata": {},
     "output_type": "execute_result"
    }
   ],
   "source": [
    "rf_clf=RandomForestClassifier(n_estimators=20)\n",
    "rf_clf.fit(X_train, y_train)"
   ]
  },
  {
   "cell_type": "code",
   "execution_count": 51,
   "metadata": {},
   "outputs": [],
   "source": [
    "random_forest_predictions = rf_clf.predict(X_test)"
   ]
  },
  {
   "cell_type": "code",
   "execution_count": 52,
   "metadata": {},
   "outputs": [
    {
     "name": "stdout",
     "output_type": "stream",
     "text": [
      "Random Forest Accuracy:  0.9442198868229588\n"
     ]
    }
   ],
   "source": [
    "print(\"Random Forest Accuracy: \",metrics.accuracy_score(y_test, random_forest_predictions))"
   ]
  },
  {
   "cell_type": "code",
   "execution_count": null,
   "metadata": {},
   "outputs": [],
   "source": []
  },
  {
   "cell_type": "markdown",
   "metadata": {},
   "source": [
    "## K Nearest Neighbors implementation"
   ]
  },
  {
   "cell_type": "code",
   "execution_count": 35,
   "metadata": {},
   "outputs": [
    {
     "data": {
      "text/plain": [
       "KNeighborsClassifier(algorithm='auto', leaf_size=30, metric='minkowski',\n",
       "                     metric_params=None, n_jobs=None, n_neighbors=1, p=2,\n",
       "                     weights='uniform')"
      ]
     },
     "execution_count": 35,
     "metadata": {},
     "output_type": "execute_result"
    }
   ],
   "source": [
    "\n",
    "knn_classifier=neighbors.KNeighborsClassifier(n_neighbors=1)\n",
    "knn_classifier.fit(X_train, y_train)"
   ]
  },
  {
   "cell_type": "code",
   "execution_count": 36,
   "metadata": {},
   "outputs": [],
   "source": [
    "knn_predictions = knn_classifier.predict(X_test)"
   ]
  },
  {
   "cell_type": "code",
   "execution_count": 37,
   "metadata": {},
   "outputs": [
    {
     "name": "stdout",
     "output_type": "stream",
     "text": [
      "KNN Accuracy:  0.7219078415521423\n"
     ]
    }
   ],
   "source": [
    "print(\"KNN Accuracy: \",metrics.accuracy_score(y_test, knn_predictions))"
   ]
  },
  {
   "cell_type": "code",
   "execution_count": null,
   "metadata": {},
   "outputs": [],
   "source": []
  },
  {
   "cell_type": "code",
   "execution_count": null,
   "metadata": {},
   "outputs": [],
   "source": []
  },
  {
   "cell_type": "code",
   "execution_count": 55,
   "metadata": {},
   "outputs": [
    {
     "data": {
      "text/plain": [
       "RandomForestClassifier(bootstrap=True, ccp_alpha=0.0, class_weight=None,\n",
       "                       criterion='gini', max_depth=None, max_features='auto',\n",
       "                       max_leaf_nodes=None, max_samples=None,\n",
       "                       min_impurity_decrease=0.0, min_impurity_split=None,\n",
       "                       min_samples_leaf=1, min_samples_split=2,\n",
       "                       min_weight_fraction_leaf=0.0, n_estimators=20,\n",
       "                       n_jobs=None, oob_score=False, random_state=None,\n",
       "                       verbose=0, warm_start=False)"
      ]
     },
     "execution_count": 55,
     "metadata": {},
     "output_type": "execute_result"
    }
   ],
   "source": [
    "final_rf_clf = RandomForestClassifier(n_estimators=20)\n",
    "final_rf_clf.fit(final_combined, target)"
   ]
  },
  {
   "cell_type": "code",
   "execution_count": null,
   "metadata": {},
   "outputs": [],
   "source": []
  },
  {
   "cell_type": "code",
   "execution_count": null,
   "metadata": {},
   "outputs": [],
   "source": []
  },
  {
   "cell_type": "markdown",
   "metadata": {},
   "source": [
    "## Prediction for cells in Type 1 folder"
   ]
  },
  {
   "cell_type": "code",
   "execution_count": 82,
   "metadata": {},
   "outputs": [],
   "source": [
    "all_Type1_files = glob.glob(\".\\\\Type1\\\\*.csv\")\n",
    "Type1_file_names = []\n",
    "Type_1_sequence = list()\n",
    "for file in all_Type1_files:\n",
    "    temp_df = pd.read_csv(file)\n",
    "    Type_1_sequence.append(temp_df.values[:55])\n",
    "    Type1_file_names.append(file)"
   ]
  },
  {
   "cell_type": "code",
   "execution_count": 83,
   "metadata": {},
   "outputs": [],
   "source": [
    "Type_1_seq = np.array(Type_1_sequence)\n",
    "Type_1_seq = Type_1_seq.reshape(Type_1_seq.shape[0],-1)"
   ]
  },
  {
   "cell_type": "code",
   "execution_count": 86,
   "metadata": {},
   "outputs": [],
   "source": [
    "type_1_predictions = final_rf_clf.predict(Type_1_seq)"
   ]
  },
  {
   "cell_type": "code",
   "execution_count": 88,
   "metadata": {},
   "outputs": [],
   "source": [
    "type_1_df = pd.DataFrame(data={\"FileName\":Type1_file_names ,\"Prediction\":type_1_predictions})"
   ]
  },
  {
   "cell_type": "code",
   "execution_count": 99,
   "metadata": {},
   "outputs": [],
   "source": [
    "Pred_dict = {1:\"Cell_A\", 2:\"Cell_B\", 3:\"Cell_C\"}\n",
    "type_1_df[\"Prediction\"] = type_1_df[\"Prediction\"].map(Pred_dict)"
   ]
  },
  {
   "cell_type": "code",
   "execution_count": 100,
   "metadata": {},
   "outputs": [
    {
     "data": {
      "text/plain": [
       "Cell_A    1797\n",
       "Cell_B     489\n",
       "Cell_C      28\n",
       "Name: Prediction, dtype: int64"
      ]
     },
     "execution_count": 100,
     "metadata": {},
     "output_type": "execute_result"
    }
   ],
   "source": [
    "type_1_df[\"Prediction\"].value_counts()"
   ]
  },
  {
   "cell_type": "code",
   "execution_count": 101,
   "metadata": {},
   "outputs": [],
   "source": [
    "type_1_df.to_csv(\"Type_1_results.csv\",index=False)"
   ]
  },
  {
   "cell_type": "code",
   "execution_count": null,
   "metadata": {},
   "outputs": [],
   "source": []
  },
  {
   "cell_type": "code",
   "execution_count": null,
   "metadata": {},
   "outputs": [],
   "source": []
  },
  {
   "cell_type": "markdown",
   "metadata": {},
   "source": [
    "## Prediction for cells in Type 2 folder"
   ]
  },
  {
   "cell_type": "code",
   "execution_count": 91,
   "metadata": {},
   "outputs": [],
   "source": [
    "all_Type2_files = glob.glob(\".\\\\Type2\\\\*.csv\")\n",
    "Type2_file_names = []\n",
    "Type_2_sequence = list()\n",
    "for file in all_Type2_files:\n",
    "    temp_df = pd.read_csv(file)\n",
    "    Type_2_sequence.append(temp_df.values[:55])\n",
    "    Type2_file_names.append(file)"
   ]
  },
  {
   "cell_type": "code",
   "execution_count": 92,
   "metadata": {},
   "outputs": [],
   "source": [
    "Type_2_seq = np.array(Type_2_sequence)\n",
    "Type_2_seq = Type_2_seq.reshape(Type_2_seq.shape[0],-1)"
   ]
  },
  {
   "cell_type": "code",
   "execution_count": 93,
   "metadata": {},
   "outputs": [],
   "source": [
    "type_2_predictions = final_rf_clf.predict(Type_2_seq)"
   ]
  },
  {
   "cell_type": "code",
   "execution_count": 94,
   "metadata": {},
   "outputs": [],
   "source": [
    "type_2_df = pd.DataFrame(data={\"FileName\":Type2_file_names ,\"Prediction\":type_2_predictions})"
   ]
  },
  {
   "cell_type": "code",
   "execution_count": 102,
   "metadata": {},
   "outputs": [],
   "source": [
    "type_2_df[\"Prediction\"] = type_2_df[\"Prediction\"].map(Pred_dict)"
   ]
  },
  {
   "cell_type": "code",
   "execution_count": 103,
   "metadata": {},
   "outputs": [
    {
     "data": {
      "text/plain": [
       "Cell_A    7912\n",
       "Cell_B     699\n",
       "Cell_C      50\n",
       "Name: Prediction, dtype: int64"
      ]
     },
     "execution_count": 103,
     "metadata": {},
     "output_type": "execute_result"
    }
   ],
   "source": [
    "type_2_df[\"Prediction\"].value_counts()"
   ]
  },
  {
   "cell_type": "code",
   "execution_count": 104,
   "metadata": {},
   "outputs": [],
   "source": [
    "type_2_df.to_csv(\"Type_2_results.csv\",index=False)"
   ]
  },
  {
   "cell_type": "code",
   "execution_count": null,
   "metadata": {},
   "outputs": [],
   "source": []
  }
 ],
 "metadata": {
  "kernelspec": {
   "display_name": "Python 3",
   "language": "python",
   "name": "python3"
  },
  "language_info": {
   "codemirror_mode": {
    "name": "ipython",
    "version": 3
   },
   "file_extension": ".py",
   "mimetype": "text/x-python",
   "name": "python",
   "nbconvert_exporter": "python",
   "pygments_lexer": "ipython3",
   "version": "3.6.4"
  }
 },
 "nbformat": 4,
 "nbformat_minor": 2
}
